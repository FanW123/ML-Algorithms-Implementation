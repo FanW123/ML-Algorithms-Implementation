{
 "cells": [
  {
   "cell_type": "markdown",
   "metadata": {},
   "source": [
    "### Housing Data Description:\n",
    "1. Title: Boston Housing Data\n",
    "\n",
    "2. Sources:\n",
    "   (a) Origin:  This dataset was taken from the StatLib library which is\n",
    "                maintained at Carnegie Mellon University.\n",
    "   (b) Creator:  Harrison, D. and Rubinfeld, D.L. 'Hedonic prices and the \n",
    "                 demand for clean air', J. Environ. Economics & Management,\n",
    "                 vol.5, 81-102, 1978.\n",
    "   (c) Date: July 7, 1993\n",
    "\n",
    "3. Past Usage:\n",
    "   -   Used in Belsley, Kuh & Welsch, 'Regression diagnostics ...', Wiley, \n",
    "       1980.   N.B. Various transformations are used in the table on\n",
    "       pages 244-261.\n",
    "    -  Quinlan,R. (1993). Combining Instance-Based and Model-Based Learning.\n",
    "       In Proceedings on the Tenth International Conference of Machine \n",
    "       Learning, 236-243, University of Massachusetts, Amherst. Morgan\n",
    "       Kaufmann.\n",
    "\n",
    "4. Relevant Information:\n",
    "\n",
    "   Concerns housing values in suburbs of Boston.\n",
    "\n",
    "5. Number of Instances: 506\n",
    "\n",
    "6. Number of Attributes: 13 continuous attributes (including \"class\"\n",
    "                         attribute \"MEDV\"), 1 binary-valued attribute.\n",
    "\n",
    "7. Attribute Information:\n",
    "\n",
    "    1. CRIM      per capita crime rate by town\n",
    "    2. ZN        proportion of residential land zoned for lots over \n",
    "                 25,000 sq.ft.\n",
    "    3. INDUS     proportion of non-retail business acres per town\n",
    "    4. CHAS      Charles River dummy variable (= 1 if tract bounds \n",
    "                 river; 0 otherwise)\n",
    "    5. NOX       nitric oxides concentration (parts per 10 million)\n",
    "    6. RM        average number of rooms per dwelling\n",
    "    7. AGE       proportion of owner-occupied units built prior to 1940\n",
    "    8. DIS       weighted distances to five Boston employment centres\n",
    "    9. RAD       index of accessibility to radial highways\n",
    "    10. TAX      full-value property-tax rate per $10,000\n",
    "    11. PTRATIO  pupil-teacher ratio by town\n",
    "    12. B        1000(Bk - 0.63)^2 where Bk is the proportion of blacks \n",
    "                 by town\n",
    "    13. LSTAT    % lower status of the population\n",
    "    14. MEDV     Median value of owner-occupied homes in $1000's\n",
    "\n",
    "8. Missing Attribute Values:  None.\n",
    "\n",
    "\n"
   ]
  },
  {
   "cell_type": "code",
   "execution_count": 150,
   "metadata": {},
   "outputs": [],
   "source": [
    "import numpy as np\n",
    "import matplotlib.pyplot as plt\n",
    "from sklearn import datasets, linear_model\n",
    "import time\n",
    "import csv\n",
    "from sklearn.preprocessing import StandardScaler\n",
    "\n",
    "def load_dataset(filename):\n",
    "    '''Loads an example of market basket transactions from a provided csv file.\n",
    "\n",
    "    Returns: A list (database) of lists (transactions). Each element of a transaction is \n",
    "    an item.\n",
    "    '''\n",
    "\n",
    "    with open(filename,'r') as dest_f:\n",
    "        data_iter = csv.reader(dest_f, delimiter = ',', quotechar = '\"')\n",
    "        data = [data for data in data_iter]\n",
    "        data_array = np.asarray(data)\n",
    "        \n",
    "    return data_array\n",
    "\n",
    "\n",
    "def linear_grad_func(theta, x, y):\n",
    "    # TODO compute gradient\n",
    "    # m = x.shape[0]\n",
    "    # h = linear_val_func(theta, x)\n",
    "    # a1 = h - y\n",
    "    # a2 = np.c_[np.ones(x.shape[0]), x]\n",
    "    # temp_multiply = a1 * a2\n",
    "    #\n",
    "    # grad = np.sum(temp_multiply, axis = 0) / m\n",
    "    m = y.size\n",
    "    y_hat = linear_val_func(theta, x)\n",
    "    x = np.c_[np.ones(x.shape[0]), x]\n",
    "    grad = np.sum((y_hat - y) * x, axis = 0) * 1.0 / m\n",
    "    # grad = np.sum((linear_val_func(theta, x) - y) * np.c_[np.ones(x.shape[0]), x], axis = 0) * 1.0 / x.shape[0]\n",
    "    return grad\n",
    "\n",
    "\n",
    "def linear_val_func(theta, x):\n",
    "    # forwarding\n",
    "    return np.dot(np.c_[np.ones(x.shape[0]), x], theta.T)  # return a column\n",
    "\n",
    "\n",
    "def linear_cost_func(theta, x, y):\n",
    "    # TODO compute cost (loss)\n",
    "    m = x.shape[0]\n",
    "    h = linear_val_func(theta, x)\n",
    "    cost = np.sum((h - y) ** 2) / (2 * m)\n",
    "    return cost\n",
    "\n",
    "\n",
    "def linear_grad_desc(theta, X_train, Y_train, lr=0.1, max_iter=1000, converge_change=.00005):\n",
    "\n",
    "    cost_iter = []\n",
    "    cost = linear_cost_func(theta, X_train, Y_train)\n",
    "    cost_iter.append([0, cost])\n",
    "    cost_change = 1\n",
    "    i = 1\n",
    "    while cost_change > converge_change and i< max_iter:\n",
    "        pre_cost = cost\n",
    "        # compute gradient\n",
    "        grad = linear_grad_func(theta, X_train, Y_train)\n",
    "\n",
    "        # TODO Update gradient\n",
    "        theta = theta - lr * grad\n",
    "\n",
    "\n",
    "        cost = linear_cost_func(theta, X_train, Y_train)\n",
    "        cost_iter.append([i, cost])\n",
    "        cost_change = abs(cost - pre_cost)\n",
    "        i += 1\n",
    "\n",
    "    return theta, cost_iter\n",
    "\n",
    "\n",
    "def linear_regression(X, Y):\n",
    "\n",
    "    # split dataset into training and testing\n",
    "    X_train = X[:-20, :]\n",
    "    X_test = X[-20:, :]\n",
    "\n",
    "    Y_train = Y[:-20, None]\n",
    "    Y_test = Y[-20:, None]\n",
    "\n",
    "\n",
    "    # Linear regression\n",
    "    theta = np.random.rand(1, X_train.shape[1]+1)  # init, 1 x (shape[1] + 1) , 1 x 2, a row\n",
    "    fitted_theta, cost_iter = linear_grad_desc(theta, X_train, Y_train, lr=0.1, max_iter=1000) # lr=0.0004\n",
    "    \n",
    "    \n",
    "    # print('fit_theta.shape: {}'.format(fitted_theta.shape))\n",
    "    print('Coefficients: {}'.format(fitted_theta[0,1:]))\n",
    "    print('Intercept: {}'.format(fitted_theta[0,0]))\n",
    "    print('RMSE: {}'.format(np.sqrt(np.sum((linear_val_func(fitted_theta, X_test) - Y_test)**2) / Y_test.shape[0])))\n",
    "\n",
    "\n",
    "def sklearn_linear_regression(X, Y):\n",
    "\n",
    "    # split dataset into training and testing\n",
    "    X_train = X[:-20, :]\n",
    "    X_test = X[-20:, :]\n",
    "\n",
    "    Y_train = Y[:-20, None] # last 20 lines\n",
    "    Y_test = Y[-20:, None]\n",
    "\n",
    "    # Linear regression\n",
    "    regressor = linear_model.LinearRegression()\n",
    "    regressor.fit(X_train, Y_train)\n",
    "    print('Coefficients: {}'.format(regressor.coef_))\n",
    "    print('Intercept: {}'.format(regressor.intercept_))\n",
    "    print('MSE:{}'.format(np.sqrt(np.mean((regressor.predict(X_test) - Y_test) ** 2))))\n",
    "\n",
    "\n"
   ]
  },
  {
   "cell_type": "markdown",
   "metadata": {},
   "source": [
    "dataset = datasets.load_diabetes() <br>\n",
    "X = dataset.data[:, 2] #Select only 2 dims <br>\n",
    "Y = dataset.target <br>\n",
    "<br>\n",
    "#split dataset into training and testing <br>\n",
    "X_train = X[:-20, None] # if there is a \"None\", then the shape is (422, 1); if no \"None\", the shape is (422,) <br>\n",
    "X_train.shape <br>"
   ]
  },
  {
   "cell_type": "code",
   "execution_count": 151,
   "metadata": {
    "collapsed": true
   },
   "outputs": [],
   "source": [
    "dataset = load_dataset(\"housing.csv\")\n",
    "dataset = dataset.astype(float) # try this one?\n",
    "\n",
    "X = dataset[:, :-1]\n",
    "Y = dataset[:, -1]"
   ]
  },
  {
   "cell_type": "code",
   "execution_count": 152,
   "metadata": {},
   "outputs": [],
   "source": [
    "scaler = StandardScaler()\n",
    "scaler.fit(X)\n",
    "X = scaler.transform(X)"
   ]
  },
  {
   "cell_type": "code",
   "execution_count": 153,
   "metadata": {},
   "outputs": [
    {
     "data": {
      "text/plain": [
       "array([[-0.41978169,  0.28482986, -1.2879095 , ..., -1.45900038,\n",
       "         0.44105193, -1.0755623 ],\n",
       "       [-0.41733901, -0.48772236, -0.59338101, ..., -0.30309415,\n",
       "         0.44105193, -0.49243937],\n",
       "       [-0.41734134, -0.48772236, -0.59338101, ..., -0.30309415,\n",
       "         0.39642699, -1.2087274 ],\n",
       "       ..., \n",
       "       [-0.41344632, -0.48772236,  0.11573841, ...,  1.17646583,\n",
       "         0.44105193, -0.98304761],\n",
       "       [-0.40776382, -0.48772236,  0.11573841, ...,  1.17646583,\n",
       "         0.4032249 , -0.86530163],\n",
       "       [-0.41499991, -0.48772236,  0.11573841, ...,  1.17646583,\n",
       "         0.44105193, -0.66905833]])"
      ]
     },
     "execution_count": 153,
     "metadata": {},
     "output_type": "execute_result"
    }
   ],
   "source": [
    "X"
   ]
  },
  {
   "cell_type": "code",
   "execution_count": 154,
   "metadata": {},
   "outputs": [
    {
     "name": "stdout",
     "output_type": "stream",
     "text": [
      "fit_theta.shape: (1, 14)\n",
      "Coefficients: [-0.86997643  1.12646105  0.0869309   0.66987002 -1.94926057  2.66630715\n",
      "  0.17462796 -3.08224541  2.74998974 -2.31249044 -1.94220404  0.81963946\n",
      " -3.92412486]\n",
      "Intercept: 22.5296725975\n",
      "MSE: 16.8481478038\n"
     ]
    }
   ],
   "source": [
    "linear_regression(X, Y)"
   ]
  },
  {
   "cell_type": "code",
   "execution_count": 155,
   "metadata": {},
   "outputs": [
    {
     "name": "stdout",
     "output_type": "stream",
     "text": [
      "Coefficients: [[-0.88280743  1.15359385  0.15776754  0.65753378 -1.94403148  2.64605414\n",
      "   0.19130621 -3.06590674  3.04944061 -2.64326581 -1.95317192  0.81788036\n",
      "  -3.93888666]]\n",
      "Intercept: [ 22.52074855]\n",
      "MSE:17.8826861849\n"
     ]
    }
   ],
   "source": [
    "sklearn_linear_regression(X, Y)"
   ]
  },
  {
   "cell_type": "code",
   "execution_count": 67,
   "metadata": {},
   "outputs": [
    {
     "data": {
      "text/plain": [
       "(506, 13)"
      ]
     },
     "execution_count": 67,
     "metadata": {},
     "output_type": "execute_result"
    }
   ],
   "source": [
    "X.shape"
   ]
  },
  {
   "cell_type": "code",
   "execution_count": 91,
   "metadata": {},
   "outputs": [
    {
     "data": {
      "text/plain": [
       "array([[ 0.72207103,  0.90535399,  0.57333056]])"
      ]
     },
     "execution_count": 91,
     "metadata": {},
     "output_type": "execute_result"
    }
   ],
   "source": [
    "np.random.rand(1, 3)"
   ]
  },
  {
   "cell_type": "code",
   "execution_count": 92,
   "metadata": {
    "collapsed": true
   },
   "outputs": [],
   "source": [
    "?np.c_"
   ]
  },
  {
   "cell_type": "code",
   "execution_count": 157,
   "metadata": {},
   "outputs": [
    {
     "data": {
      "text/plain": [
       "3.0"
      ]
     },
     "execution_count": 157,
     "metadata": {},
     "output_type": "execute_result"
    }
   ],
   "source": [
    "np.sqrt(9)"
   ]
  },
  {
   "cell_type": "code",
   "execution_count": null,
   "metadata": {
    "collapsed": true
   },
   "outputs": [],
   "source": []
  }
 ],
 "metadata": {
  "kernelspec": {
   "display_name": "Python 2",
   "language": "python",
   "name": "python2"
  },
  "language_info": {
   "codemirror_mode": {
    "name": "ipython",
    "version": 2
   },
   "file_extension": ".py",
   "mimetype": "text/x-python",
   "name": "python",
   "nbconvert_exporter": "python",
   "pygments_lexer": "ipython2",
   "version": "2.7.13"
  }
 },
 "nbformat": 4,
 "nbformat_minor": 2
}
